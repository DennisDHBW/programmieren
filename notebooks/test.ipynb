{
 "cells": [
  {
   "metadata": {
    "ExecuteTime": {
     "end_time": "2024-12-16T16:18:59.417924Z",
     "start_time": "2024-12-16T16:18:59.411562Z"
    }
   },
   "cell_type": "code",
   "source": [
    "def print_christmas_tree(levels):\n",
    "    for i in range(levels):\n",
    "        # spaces\n",
    "        print(' ' * (levels - i - 1), end='')\n",
    "        # stars\n",
    "        print('*' * (2 * i + 1))\n",
    "\n",
    "    # trunk\n",
    "    trunk_width = int(levels * 0.4)\n",
    "    trunk_height = int(levels * 0.2)\n",
    "\n",
    "    for _ in range(trunk_height):\n",
    "        print(' ' * (levels - trunk_width // 2 - 1) + '*' * trunk_width)\n",
    "\n",
    "\n",
    "\n",
    "print_christmas_tree(10)"
   ],
   "id": "a90e662dfbe34298",
   "outputs": [
    {
     "name": "stdout",
     "output_type": "stream",
     "text": [
      "         *\n",
      "        ***\n",
      "       *****\n",
      "      *******\n",
      "     *********\n",
      "    ***********\n",
      "   *************\n",
      "  ***************\n",
      " *****************\n",
      "*******************\n",
      "       ****\n",
      "       ****\n"
     ]
    }
   ],
   "execution_count": 49
  },
  {
   "metadata": {},
   "cell_type": "code",
   "outputs": [],
   "execution_count": null,
   "source": "",
   "id": "4574ef9cbae500c6"
  }
 ],
 "metadata": {
  "kernelspec": {
   "display_name": "Python 3",
   "language": "python",
   "name": "python3"
  },
  "language_info": {
   "codemirror_mode": {
    "name": "ipython",
    "version": 2
   },
   "file_extension": ".py",
   "mimetype": "text/x-python",
   "name": "python",
   "nbconvert_exporter": "python",
   "pygments_lexer": "ipython2",
   "version": "2.7.6"
  }
 },
 "nbformat": 4,
 "nbformat_minor": 5
}
